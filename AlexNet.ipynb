{
 "cells": [
  {
   "cell_type": "code",
   "execution_count": 1,
   "id": "d6a92a3c-9ce6-44c2-9cb8-6af744881ec2",
   "metadata": {},
   "outputs": [],
   "source": [
    "import numpy as np\n",
    "import torch\n",
    "import torch.nn as nn\n",
    "import torch.nn.functional as F\n",
    "import torch.optim as optim\n",
    "from torchvision import datasets,transforms\n",
    "import time\n",
    "from matplotlib import pyplot as plt"
   ]
  },
  {
   "cell_type": "markdown",
   "id": "199e244a-b415-4c84-ab56-a7fca1f00350",
   "metadata": {},
   "source": [
    "# AlexNet的PyTorch复现（猫狗大战）"
   ]
  },
  {
   "cell_type": "markdown",
   "id": "946778a2-b441-4efb-8009-e1a4104c0c03",
   "metadata": {},
   "source": [
    "## 1. 数据集制作"
   ]
  },
  {
   "cell_type": "markdown",
   "id": "8bb549c1-46e8-4e52-8545-323b455cb09c",
   "metadata": {},
   "source": [
    "在论文中AlexNet作者使用的是ILSVRC 2012比赛数据集，该数据集非常大（有138G），下载、训练都很消耗时间，我们在复现的时候就不用这个数据集了。由于MNIST、CIFAR10、CIFAR100这些数据集图片尺寸都较小，不符合AlexNet网络输入尺寸227x227的要求，因此我们改用kaggle比赛经典的“猫狗大战”数据集了。\n",
    "\n",
    "该数据集包含的训练集总共25000张图片，猫狗各12500张，带标签；测试集总共12500张，不带标签。我们仅使用带标签的25000张图片，分别拿出2500张猫和狗的图片作为模型的验证集。我们按照以下目录层级结构，将数据集图片放好。"
   ]
  },
  {
   "cell_type": "markdown",
   "id": "36f8534d-c0c8-4c4e-800b-fb9250040303",
   "metadata": {},
   "source": [
    "![](./images/path.png)"
   ]
  },
  {
   "cell_type": "markdown",
   "id": "3d0f385c-7f9a-46d2-baa9-54df705f4063",
   "metadata": {},
   "source": [
    "为了方便大家训练，我们将该数据集放在百度云盘，下载链接：\n",
    "链接：https://pan.baidu.com/s/1UEOzxWWMLCUoLTxdWUkB4A \n",
    "提取码：cdue"
   ]
  },
  {
   "cell_type": "markdown",
   "id": "78e99da6-9283-4517-9bbe-db8c3e21a8b3",
   "metadata": {},
   "source": [
    "### 1.1 制作图片数据的索引"
   ]
  },
  {
   "cell_type": "markdown",
   "id": "5361e7a5-d0fc-441d-878b-37ae5defc27a",
   "metadata": {},
   "source": [
    "准备好数据集之后，我们需要用PyTorch来读取并制作可以用来训练和测试的数据集。对于训练集和测试集，首先要分别制作对应的图片数据索引，即train.txt和test.txt两个文件，每个txt中包含每个图片的目录和对应类别class（cat对应的label=0，dog对应的label=1）。示意图如下："
   ]
  },
  {
   "cell_type": "markdown",
   "id": "4ccf4725-6ef0-4a60-92a5-c1e9af136f36",
   "metadata": {},
   "source": [
    "![](./images/index.png)"
   ]
  },
  {
   "cell_type": "markdown",
   "id": "466a0b40-46e1-49c1-bf9b-a5f4cc1dfa8b",
   "metadata": {},
   "source": [
    "制作图片数据索引train.txt和test.txt两个文件的python脚本程序如下："
   ]
  },
  {
   "cell_type": "code",
   "execution_count": 2,
   "id": "ac69b05c-f400-48a2-89f8-67bd8eb51a66",
   "metadata": {},
   "outputs": [],
   "source": [
    "import os\n",
    "\n",
    "train_txt_path = os.path.join(\"data\", \"catVSdog\", \"train.txt\")\n",
    "train_dir = os.path.join(\"data\", \"catVSdog\", \"train_data\")\n",
    "valid_txt_path = os.path.join(\"data\", \"catVSdog\", \"test.txt\")\n",
    "valid_dir = os.path.join(\"data\", \"catVSdog\", \"test_data\")\n",
    "\n",
    "def gen_txt(txt_path, img_dir):\n",
    "    f = open(txt_path, 'w')\n",
    "    \n",
    "    for root, s_dirs, _ in os.walk(img_dir, topdown=True):  # 获取 train文件下各文件夹名称\n",
    "        for sub_dir in s_dirs:\n",
    "            i_dir = os.path.join(root, sub_dir)             # 获取各类的文件夹 绝对路径\n",
    "            img_list = os.listdir(i_dir)                    # 获取类别文件夹下所有png图片的路径\n",
    "            for i in range(len(img_list)):\n",
    "                if not img_list[i].endswith('jpg'):         # 若不是png文件，跳过\n",
    "                    continue\n",
    "                #label = (img_list[i].split('.')[0] == 'cat')? 0 : 1 \n",
    "                label = img_list[i].split('.')[0]\n",
    "                # 将字符类别转为整型类型表示\n",
    "                if label == 'cat':\n",
    "                    label = '0'\n",
    "                else:\n",
    "                    label = '1'\n",
    "                img_path = os.path.join(i_dir, img_list[i])\n",
    "                line = img_path + ' ' + label + '\\n'\n",
    "                f.write(line)\n",
    "    f.close()\n",
    "\n",
    "if __name__ == '__main__':\n",
    "    gen_txt(train_txt_path, train_dir)\n",
    "    gen_txt(valid_txt_path, valid_dir)"
   ]
  },
  {
   "cell_type": "markdown",
   "id": "97e57734-f5ba-44c9-98db-9d14ab383cdd",
   "metadata": {},
   "source": [
    "运行脚本之后就在./data/catVSdog/目录下生成train.txt和test.txt两个索引文件。"
   ]
  },
  {
   "cell_type": "markdown",
   "id": "84e8754b-92b3-40c0-909a-1af3c416db07",
   "metadata": {},
   "source": [
    "### 1.2 构建Dataset子类"
   ]
  },
  {
   "cell_type": "markdown",
   "id": "1ef1d69e-2151-4c58-92e5-2a7e4f7d2805",
   "metadata": {},
   "source": [
    "PyTorch 加载自己的数据集，需要写一个继承自torch.utils.data中Dataset类，并修改其中的__init__方法、__getitem__方法、__len__方法。默认加载的都是图片，__init__的目的是得到一个包含数据和标签的list，每个元素能找到图片位置和其对应标签。然后用__getitem__方法得到每个元素的图像像素矩阵和标签，返回img和label。"
   ]
  },
  {
   "cell_type": "code",
   "execution_count": 3,
   "id": "ce26676d-705e-4dda-93b5-f4dbeda7c4af",
   "metadata": {},
   "outputs": [],
   "source": [
    "from PIL import Image\n",
    "from torch.utils.data import Dataset\n",
    "\n",
    "class MyDataset(Dataset):\n",
    "    def __init__(self, txt_path, transform = None, target_transform = None):\n",
    "        fh = open(txt_path, 'r')\n",
    "        imgs = []\n",
    "        for line in fh:\n",
    "            line = line.rstrip()\n",
    "            words = line.split()\n",
    "            imgs.append((words[0], int(words[1]))) # 类别转为整型int\n",
    "            self.imgs = imgs \n",
    "            self.transform = transform\n",
    "            self.target_transform = target_transform\n",
    "    def __getitem__(self, index):\n",
    "        fn, label = self.imgs[index]\n",
    "        img = Image.open(fn).convert('RGB') \n",
    "        #img = Image.open(fn)\n",
    "        if self.transform is not None:\n",
    "            img = self.transform(img) \n",
    "        return img, label\n",
    "    def __len__(self):\n",
    "        return len(self.imgs)"
   ]
  },
  {
   "cell_type": "markdown",
   "id": "f5c2cf3a-71af-47ad-814d-c833d0fc72a3",
   "metadata": {},
   "source": [
    "getitem是核心函数。self.imgs是一个list，self.imgs[index]是一个str，包含图片路径，图片标签，这些信息是从上面生成的txt文件中读取；利用Image.open对图片进行读取，注意这里的img是单通道还是三通道的；self.transform(img)对图片进行处理，这个transform里边可以实现减均值、除标准差、随机裁剪、旋转、翻转、放射变换等操作。"
   ]
  },
  {
   "cell_type": "markdown",
   "id": "654ae94f-b3ff-4033-81ea-1c5a9aad8328",
   "metadata": {},
   "source": [
    "### 1.3 加载数据集和数据预处理"
   ]
  },
  {
   "cell_type": "markdown",
   "id": "44d0a907-646d-4493-9eb0-fa80075d2ec2",
   "metadata": {},
   "source": [
    "当Mydataset构建好，剩下的操作就交给DataLoder来加载数据集。在DataLoder中，会触发Mydataset中的getiterm函数读取一张图片的数据和标签，并拼接成一个batch返回，作为模型真正的输入。"
   ]
  },
  {
   "cell_type": "code",
   "execution_count": 4,
   "id": "48cad5df-cd98-4fb9-91d3-4016d40c8fc7",
   "metadata": {},
   "outputs": [],
   "source": [
    "pipline_train = transforms.Compose([\n",
    "    #transforms.RandomResizedCrop(224),\n",
    "    #随机旋转图片\n",
    "    transforms.RandomHorizontalFlip(),\n",
    "    #将图片尺寸resize到227x227\n",
    "    transforms.Resize((227,227)),\n",
    "    #将图片转化为Tensor格式\n",
    "    transforms.ToTensor(),\n",
    "    #正则化(当模型出现过拟合的情况时，用来降低模型的复杂度)\n",
    "    #transforms.Normalize((0.5, 0.5, 0.5), (0.5, 0.5, 0.5))\n",
    "    transforms.Normalize(mean = [0.485, 0.456, 0.406],std = [0.229, 0.224, 0.225])\n",
    "])\n",
    "pipline_test = transforms.Compose([\n",
    "    #将图片尺寸resize到227x227\n",
    "    transforms.Resize((227,227)),\n",
    "    transforms.ToTensor(),\n",
    "    #transforms.Normalize((0.5, 0.5, 0.5), (0.5, 0.5, 0.5))\n",
    "    transforms.Normalize(mean = [0.485, 0.456, 0.406],std = [0.229, 0.224, 0.225])\n",
    "])\n",
    "train_data = MyDataset('./data/catVSdog/train.txt', transform=pipline_train)\n",
    "test_data = MyDataset('./data/catVSdog/test.txt', transform=pipline_test)\n",
    "\n",
    "#train_data 和test_data包含多有的训练与测试数据，调用DataLoader批量加载\n",
    "trainloader = torch.utils.data.DataLoader(dataset=train_data, batch_size=64, shuffle=True)\n",
    "testloader = torch.utils.data.DataLoader(dataset=test_data, batch_size=32, shuffle=False)\n",
    "# 类别信息也是需要我们给定的\n",
    "classes = ('cat', 'dog') # 对应label=0，label=1"
   ]
  },
  {
   "cell_type": "markdown",
   "id": "cf3ac33b-ff3e-48a4-80c9-897216d2fd7c",
   "metadata": {},
   "source": [
    "在数据预处理中，我们将图片尺寸调整到227x227，符合AlexNet网络的输入要求。这是使用的是ImageNet的均值和标准差。使用Imagenet的均值和标准差是一种常见的做法。它们是根据数百万张图像计算得出的。如果要在自己的数据集上从头开始训练，则可以计算新的均值和标准差。均值mean = [0.485, 0.456, 0.406]，方差std = [0.229, 0.224, 0.225]，然后使用transforms.Normalize进行归一化操作。"
   ]
  },
  {
   "cell_type": "markdown",
   "id": "4ae3fda9-8530-48da-917b-4a8d7c8d1c97",
   "metadata": {},
   "source": [
    "我们来看一下最终制作的数据集图片和它们对应的标签："
   ]
  },
  {
   "cell_type": "code",
   "execution_count": 5,
   "id": "4db2c891-cde9-42f3-88fd-af09766c498d",
   "metadata": {},
   "outputs": [
    {
     "name": "stderr",
     "output_type": "stream",
     "text": [
      "Clipping input data to the valid range for imshow with RGB data ([0..1] for floats or [0..255] for integers).\n",
      "Clipping input data to the valid range for imshow with RGB data ([0..1] for floats or [0..255] for integers).\n",
      "Clipping input data to the valid range for imshow with RGB data ([0..1] for floats or [0..255] for integers).\n"
     ]
    },
    {
     "data": {
      "image/png": "[encoded data removed]",
      "text/plain": [
       "<Figure size 432x288 with 4 Axes>"
      ]
     },
     "metadata": {},
     "output_type": "display_data"
    }
   ],
   "source": [
    "examples = enumerate(trainloader)\n",
    "batch_idx, (example_data, example_label) = next(examples)\n",
    "# 批量展示图片\n",
    "for i in range(4):\n",
    "    plt.subplot(1, 4, i + 1)\n",
    "    plt.tight_layout()  #自动调整子图参数，使之填充整个图像区域\n",
    "    img = example_data[i]\n",
    "    img = img.numpy() # FloatTensor转为ndarray\n",
    "    img = np.transpose(img, (1,2,0)) # 把channel那一维放到最后\n",
    "    #img = img * [0.5, 0.5, 0.5] + [0.5, 0.5, 0.5]\n",
    "    img = img * [0.229, 0.224, 0.225] + [0.485, 0.456, 0.406]\n",
    "    plt.imshow(img)\n",
    "    plt.title(\"label:{}\".format(example_label[i]))\n",
    "    plt.xticks([])\n",
    "    plt.yticks([])\n",
    "plt.show()"
   ]
  },
  {
   "cell_type": "markdown",
   "id": "f389978a-256e-47b6-a99e-e8bce85d5a8f",
   "metadata": {},
   "source": [
    "## 2. 搭建AlexNet神经网络结构，并定义前向传播的过程"
   ]
  },
  {
   "cell_type": "code",
   "execution_count": 6,
   "id": "717de392-91f1-45cb-99b5-d3f967cc628f",
   "metadata": {},
   "outputs": [],
   "source": [
    "class AlexNet(nn.Module):\n",
    "    \"\"\"\n",
    "    Neural network model consisting of layers propsed by AlexNet paper.\n",
    "    \"\"\"\n",
    "    def __init__(self, num_classes=2):\n",
    "        \"\"\"\n",
    "        Define and allocate layers for this neural net.\n",
    "        Args:\n",
    "            num_classes (int): number of classes to predict with this model\n",
    "        \"\"\"\n",
    "        super().__init__()\n",
    "        # input size should be : (b x 3 x 227 x 227)\n",
    "        # The image in the original paper states that width and height are 224 pixels, but\n",
    "        # the dimensions after first convolution layer do not lead to 55 x 55.\n",
    "        self.net = nn.Sequential(\n",
    "            nn.Conv2d(in_channels=3, out_channels=96, kernel_size=11, stride=4),  # (b x 96 x 55 x 55)\n",
    "            nn.ReLU(),\n",
    "            nn.LocalResponseNorm(size=5, alpha=0.0001, beta=0.75, k=2),  # section 3.3\n",
    "            nn.MaxPool2d(kernel_size=3, stride=2),  # (b x 96 x 27 x 27)\n",
    "            nn.Conv2d(96, 256, 5, padding=2),  # (b x 256 x 27 x 27)\n",
    "            nn.ReLU(),\n",
    "            nn.LocalResponseNorm(size=5, alpha=0.0001, beta=0.75, k=2),\n",
    "            nn.MaxPool2d(kernel_size=3, stride=2),  # (b x 256 x 13 x 13)\n",
    "            nn.Conv2d(256, 384, 3, padding=1),  # (b x 384 x 13 x 13)\n",
    "            nn.ReLU(),\n",
    "            nn.Conv2d(384, 384, 3, padding=1),  # (b x 384 x 13 x 13)\n",
    "            nn.ReLU(),\n",
    "            nn.Conv2d(384, 256, 3, padding=1),  # (b x 256 x 13 x 13)\n",
    "            nn.ReLU(),\n",
    "            nn.MaxPool2d(kernel_size=3, stride=2),  # (b x 256 x 6 x 6)\n",
    "        )\n",
    "        # classifier is just a name for linear layers\n",
    "        self.classifier = nn.Sequential(\n",
    "            nn.Dropout(p=0.5, inplace=True),\n",
    "            nn.Linear(in_features=(256 * 6 * 6), out_features=500),\n",
    "            nn.ReLU(),\n",
    "            nn.Dropout(p=0.5, inplace=True),\n",
    "            nn.Linear(in_features=500, out_features=20),\n",
    "            nn.ReLU(),\n",
    "            nn.Linear(in_features=20, out_features=num_classes),\n",
    "        )\n",
    "\n",
    "    def forward(self, x):\n",
    "        \"\"\"\n",
    "        Pass the input through the net.\n",
    "        Args:\n",
    "            x (Tensor): input tensor\n",
    "        Returns:\n",
    "            output (Tensor): output tensor\n",
    "        \"\"\"\n",
    "        x = self.net(x)\n",
    "        x = x.view(-1, 256 * 6 * 6)  # reduce the dimensions for linear layer input\n",
    "        return self.classifier(x)"
   ]
  },
  {
   "cell_type": "markdown",
   "id": "1e3dc23f-be47-479e-a4c9-d26021a57646",
   "metadata": {},
   "source": [
    "在构建AlexNet网络里，参数num_classes指的是类别的数量，由于论文中AlexNet的输出是1000个类别，我们这里的数据集只有猫和狗两个类别，因此这里的全连接层的神经元个数做了微调。num_classes=2，输出层也是两个神经元，不是原来的1000个神经元。FC6由原来的4096个神经元改为500个神经元，FC7由原来的4096个神经元改为20个神经元。这里的改动大家注意一下，根据实际数据集的类别数量进行调整。整个网络的其它结构跟论文中的完全一样。"
   ]
  },
  {
   "cell_type": "markdown",
   "id": "72294575-f2f3-478d-ba62-e5f947bed569",
   "metadata": {},
   "source": [
    "## 3. 将定义好的网络结构搭载到GPU/CPU，并定义优化器"
   ]
  },
  {
   "cell_type": "code",
   "execution_count": 7,
   "id": "c1a3414b-f53d-466d-b57c-7774993451b6",
   "metadata": {},
   "outputs": [],
   "source": [
    "#创建模型，部署gpu\n",
    "device = torch.device(\"cuda\" if torch.cuda.is_available() else \"cpu\")\n",
    "model = AlexNet().to(device)\n",
    "#定义优化器\n",
    "optimizer = optim.Adam(model.parameters(), lr=0.001)"
   ]
  },
  {
   "cell_type": "markdown",
   "id": "93db0c3c-2961-4d66-8a8a-57578839b15c",
   "metadata": {},
   "source": [
    "## 4. 定义训练过程"
   ]
  },
  {
   "cell_type": "code",
   "execution_count": 8,
   "id": "88ad4b6e-60ee-4059-a0e1-c2dff765895d",
   "metadata": {},
   "outputs": [],
   "source": [
    "def train_runner(model, device, trainloader, optimizer, epoch):\n",
    "    #训练模型, 启用 BatchNormalization 和 Dropout, 将BatchNormalization和Dropout置为True\n",
    "    model.train()\n",
    "    total = 0\n",
    "    correct =0.0\n",
    "    \n",
    "    #enumerate迭代已加载的数据集,同时获取数据和数据下标\n",
    "    for i, data in enumerate(trainloader, 0):\n",
    "        inputs, labels = data\n",
    "        #把模型部署到device上\n",
    "        inputs, labels = inputs.to(device), labels.to(device)\n",
    "        #初始化梯度\n",
    "        optimizer.zero_grad()\n",
    "        #保存训练结果\n",
    "        outputs = model(inputs)\n",
    "        #计算损失和\n",
    "        #多分类情况通常使用cross_entropy(交叉熵损失函数), 而对于二分类问题, 通常使用sigmod\n",
    "        loss = F.cross_entropy(outputs, labels)\n",
    "        #获取最大概率的预测结果\n",
    "        #dim=1表示返回每一行的最大值对应的列下标\n",
    "        predict = outputs.argmax(dim=1)\n",
    "        total += labels.size(0)\n",
    "        correct += (predict == labels).sum().item()\n",
    "        #反向传播\n",
    "        loss.backward()\n",
    "        #更新参数\n",
    "        optimizer.step()\n",
    "        if i % 100 == 0:\n",
    "            #loss.item()表示当前loss的数值\n",
    "            print(\"Train Epoch{} \\t Loss: {:.6f}, accuracy: {:.6f}%\".format(epoch, loss.item(), 100*(correct/total)))\n",
    "            Loss.append(loss.item())\n",
    "            Accuracy.append(correct/total)\n",
    "    return loss.item(), correct/total"
   ]
  },
  {
   "cell_type": "markdown",
   "id": "bc23dc69-01b9-464f-8f13-abcc2b722cd2",
   "metadata": {},
   "source": [
    "## 5. 定义测试过程"
   ]
  },
  {
   "cell_type": "code",
   "execution_count": 9,
   "id": "fca551bd-6f5c-40d0-9a3e-db6f704677d8",
   "metadata": {},
   "outputs": [],
   "source": [
    "def test_runner(model, device, testloader):\n",
    "    #模型验证, 必须要写, 否则只要有输入数据, 即使不训练, 它也会改变权值\n",
    "    #因为调用eval()将不启用 BatchNormalization 和 Dropout, BatchNormalization和Dropout置为False\n",
    "    model.eval()\n",
    "    #统计模型正确率, 设置初始值\n",
    "    correct = 0.0\n",
    "    test_loss = 0.0\n",
    "    total = 0\n",
    "    #torch.no_grad将不会计算梯度, 也不会进行反向传播\n",
    "    with torch.no_grad():\n",
    "        for data, label in testloader:\n",
    "            data, label = data.to(device), label.to(device)\n",
    "            output = model(data)\n",
    "            test_loss += F.cross_entropy(output, label).item()\n",
    "            predict = output.argmax(dim=1)\n",
    "            #计算正确数量\n",
    "            total += label.size(0)\n",
    "            correct += (predict == label).sum().item()\n",
    "        #计算损失值\n",
    "        print(\"test_avarage_loss: {:.6f}, accuracy: {:.6f}%\".format(test_loss/total, 100*(correct/total)))"
   ]
  },
  {
   "cell_type": "markdown",
   "id": "97b14c4d-f2ba-43dd-9789-9a5b4a2b61bd",
   "metadata": {},
   "source": [
    "## 6. 运行"
   ]
  },
  {
   "cell_type": "code",
   "execution_count": null,
   "id": "e84fa14c-1af2-4654-b268-1aadae280cea",
   "metadata": {},
   "outputs": [
    {
     "name": "stdout",
     "output_type": "stream",
     "text": [
      "start_time 2022-02-08 08:43:47\n",
      "Train Epoch1 \t Loss: 0.706899, accuracy: 46.875000%\n",
      "Train Epoch1 \t Loss: 0.691226, accuracy: 51.871906%\n",
      "Train Epoch1 \t Loss: 0.633129, accuracy: 53.482587%\n",
      "Train Epoch1 \t Loss: 0.627048, accuracy: 55.351952%\n",
      "test_avarage_loss: 0.020481, accuracy: 61.800000%\n",
      "end_time:  2022-02-08 09:12:29 \n",
      "\n",
      "start_time 2022-02-08 09:12:29\n",
      "Train Epoch2 \t Loss: 0.661039, accuracy: 65.625000%\n",
      "Train Epoch2 \t Loss: 0.671636, accuracy: 63.010520%\n"
     ]
    }
   ],
   "source": [
    "#调用\n",
    "epoch = 20\n",
    "Loss = []\n",
    "Accuracy = []\n",
    "for epoch in range(1, epoch+1):\n",
    "    print(\"start_time\",time.strftime('%Y-%m-%d %H:%M:%S',time.localtime(time.time())))\n",
    "    loss, acc = train_runner(model, device, trainloader, optimizer, epoch)\n",
    "    Loss.append(loss)\n",
    "    Accuracy.append(acc)\n",
    "    test_runner(model, device, testloader)\n",
    "    print(\"end_time: \",time.strftime('%Y-%m-%d %H:%M:%S',time.localtime(time.time())),'\\n')\n",
    "\n",
    "print('Finished Training')\n",
    "plt.subplot(2,1,1)\n",
    "plt.plot(Loss)\n",
    "plt.title('Loss')\n",
    "plt.show()\n",
    "plt.subplot(2,1,2)\n",
    "plt.plot(Accuracy)\n",
    "plt.title('Accuracy')\n",
    "plt.show()"
   ]
  },
  {
   "cell_type": "markdown",
   "id": "e56d7502-3fbb-4c33-a6d8-affecc1a7236",
   "metadata": {},
   "source": [
    "## 7. 保存模型"
   ]
  },
  {
   "cell_type": "code",
   "execution_count": null,
   "id": "6e3b3700-83b9-4979-b492-c0c7649cb284",
   "metadata": {},
   "outputs": [],
   "source": [
    "print(model)\n",
    "torch.save(model, './models/alexnet-catvsdog.pth') #保存模型"
   ]
  },
  {
   "cell_type": "markdown",
   "id": "2be2bb3b-3788-4f54-abfe-96a5c24f5b4a",
   "metadata": {},
   "source": [
    "## 8. 模型测试"
   ]
  },
  {
   "cell_type": "markdown",
   "id": "1ebc48f6-d6be-44c7-aa10-ed81320723d3",
   "metadata": {},
   "source": [
    "下面使用一张猫狗大战测试集的图片进行模型的测试。"
   ]
  },
  {
   "cell_type": "code",
   "execution_count": null,
   "id": "8d555044-c066-423c-bb07-c34da473c123",
   "metadata": {},
   "outputs": [],
   "source": [
    "from PIL import Image\n",
    "import numpy as np\n",
    "\n",
    "if __name__ == '__main__':\n",
    "    device = torch.device('cuda' if torch.cuda.is_available() else 'cpu')\n",
    "    model = torch.load('./models/alexnet-catvsdog.pth') #加载模型\n",
    "    model = model.to(device)\n",
    "    model.eval()    #把模型转为test模式\n",
    "    \n",
    "    #读取要预测的图片\n",
    "    # 读取要预测的图片\n",
    "    img = Image.open(\"./images/test_cat.jpg\") # 读取图像\n",
    "    #img.show()\n",
    "    plt.imshow(img) # 显示图片\n",
    "    plt.axis('off') # 不显示坐标轴\n",
    "    plt.show()\n",
    "    \n",
    "    # 导入图片，图片扩展后为[1，1，32，32]\n",
    "    trans = transforms.Compose(\n",
    "        [\n",
    "            transforms.Resize((227,227)),\n",
    "            transforms.ToTensor(),\n",
    "            #transforms.Normalize((0.5, 0.5, 0.5), (0.5, 0.5, 0.5))\n",
    "            transforms.Normalize(mean = [0.485, 0.456, 0.406],std = [0.229, 0.224, 0.225])\n",
    "        ])\n",
    "    img = trans(img)\n",
    "    img = img.to(device)\n",
    "    img = img.unsqueeze(0)  #图片扩展多一维,因为输入到保存的模型中是4维的[batch_size,通道,长，宽]，而普通图片只有三维，[通道,长，宽]\n",
    "    \n",
    "    # 预测 \n",
    "    # 预测 \n",
    "    classes = ('cat', 'dog')\n",
    "    output = model(img)\n",
    "    prob = F.softmax(output,dim=1) #prob是2个分类的概率\n",
    "    print(\"概率：\",prob)\n",
    "    value, predicted = torch.max(output.data, 1)\n",
    "    predict = output.argmax(dim=1)\n",
    "    pred_class = classes[predicted.item()]\n",
    "    print(\"预测类别：\",pred_class)"
   ]
  },
  {
   "cell_type": "code",
   "execution_count": null,
   "id": "d5ea6994-08b6-4f67-9271-4ced7cacac5e",
   "metadata": {},
   "outputs": [],
   "source": []
  }
 ],
 "metadata": {
  "kernelspec": {
   "display_name": "Python [conda env:.conda-pytorch] *",
   "language": "python",
   "name": "conda-env-.conda-pytorch-py"
  },
  "language_info": {
   "codemirror_mode": {
    "name": "ipython",
    "version": 3
   },
   "file_extension": ".py",
   "mimetype": "text/x-python",
   "name": "python",
   "nbconvert_exporter": "python",
   "pygments_lexer": "ipython3",
   "version": "3.6.13"
  }
 },
 "nbformat": 4,
 "nbformat_minor": 5
}
